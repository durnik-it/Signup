{
  "metadata": {
    "kernelspec": {
      "display_name": "Python 3",
      "name": "python3"
    },
    "language_info": {
      "name": "python",
      "version": "3.7.12",
      "mimetype": "text/x-python",
      "codemirror_mode": {
        "name": "ipython",
        "version": 3
      },
      "pygments_lexer": "ipython3",
      "nbconvert_exporter": "python",
      "file_extension": ".py"
    },
    "colab": {
      "provenance": [],
      "gpuType": "T4",
      "include_colab_link": true
    },
    "accelerator": "GPU"
  },
  "nbformat_minor": 0,
  "nbformat": 4,
  "cells": [
    {
      "cell_type": "markdown",
      "metadata": {
        "id": "view-in-github",
        "colab_type": "text"
      },
      "source": [
        "<a href=\"https://colab.research.google.com/github/durnik-it/Signup/blob/master/h2oGPT_GPU.ipynb\" target=\"_parent\"><img src=\"https://colab.research.google.com/assets/colab-badge.svg\" alt=\"Open In Colab\"/></a>"
      ]
    },
    {
      "cell_type": "markdown",
      "source": [
        "# Document Question-Answer [h2oGPT](https://github.com/h2oai/h2ogpt)\n",
        "\n",
        "In this notebook, we demonstrate how one can use h2oGPT with a large language model.\n",
        "\n",
        "To begin, please get free ngrok account to get auth token (e.g.) using your Google email/login and get token: https://dashboard.ngrok.com/get-started/setup .  You will be asked for this token below in an input box."
      ],
      "metadata": {
        "id": "a5WqLjn4-chc"
      }
    },
    {
      "cell_type": "code",
      "source": [
        "!git clone https://github.com/h2oai/h2ogpt.git\n",
        "!cd h2ogpt && git checkout 2668694581347b0d1afe76760213db46f7214126 -q\n",
        "!cp -ar h2ogpt/. ./\n",
        "!rm -r h2ogpt"
      ],
      "metadata": {
        "execution": {
          "iopub.status.busy": "2023-04-19T05:04:22.652611Z",
          "iopub.execute_input": "2023-04-19T05:04:22.653611Z",
          "iopub.status.idle": "2023-04-19T05:04:28.381885Z",
          "shell.execute_reply.started": "2023-04-19T05:04:22.653556Z",
          "shell.execute_reply": "2023-04-19T05:04:28.380315Z"
        },
        "trusted": true,
        "id": "CD1TvqW8-che"
      },
      "execution_count": null,
      "outputs": []
    },
    {
      "cell_type": "code",
      "source": [
        "# Install pyhon 3.10 that will be used within pipenv\n",
        "!sudo add-apt-repository ppa:deadsnakes/ppa -y > /dev/null\n",
        "!sudo apt install python3.10 python3.10-distutils psmisc -y > /dev/null\n",
        "!curl -sS https://bootstrap.pypa.io/get-pip.py | python3.10 > /dev/null"
      ],
      "metadata": {
        "execution": {
          "iopub.status.busy": "2023-04-19T05:04:36.253404Z",
          "iopub.execute_input": "2023-04-19T05:04:36.254498Z",
          "iopub.status.idle": "2023-04-19T05:09:08.846475Z",
          "shell.execute_reply.started": "2023-04-19T05:04:36.254436Z",
          "shell.execute_reply": "2023-04-19T05:09:08.844973Z"
        },
        "trusted": true,
        "id": "YWdHujUB-chf"
      },
      "execution_count": null,
      "outputs": []
    },
    {
      "cell_type": "code",
      "source": [
        "# Install dependencies\n",
        "!for fil in requirements.txt reqs_optional/requirements_optional_langchain.txt reqs_optional/requirements_optional_gpt4all.txt reqs_optional/requirements_optional_langchain.gpllike.txt reqs_optional/requirements_optional_langchain.urls.txt ; do pip install -r $fil ; done\n"
      ],
      "metadata": {
        "id": "RGWAnUt2sA-V"
      },
      "execution_count": null,
      "outputs": []
    },
    {
      "cell_type": "code",
      "source": [
        "# Sign-up for free ngrok account using (e.g.) your Google email/login and get token: https://dashboard.ngrok.com/get-started/setup\n",
        "\n",
        "!pip install pyngrok\n",
        "import getpass\n",
        "from pyngrok import ngrok, conf\n",
        "\n",
        "print(\"Enter your authtoken, which can be copied from https://dashboard.ngrok.com/auth\")\n",
        "conf.get_default().auth_token = getpass.getpass()\n",
        "\n",
        "# Open an http ngrok tunnel\n",
        "connection_string = ngrok.connect(7860, \"http\").public_url\n",
        "print(\"Once server is up and says Running on local URL:  http://0.0.0.0:7860, click on this link, then click on Visit Site: %s\" % connection_string)"
      ],
      "metadata": {
        "id": "U1b_FOQZ8snb"
      },
      "execution_count": null,
      "outputs": []
    },
    {
      "cell_type": "code",
      "source": [
        "!GRADIO_SERVER_PORT=7860 python generate.py --base_model=togethercomputer/RedPajama-INCITE-Chat-3B-v1 --prompt_type=human_bot --score_model=None --langchain_mode=ChatLLM --visible_langchain_modes=\"['ChatLLM', 'UserData', 'MyData']\" --user_path=user_path --share=False --hf_embedding_model=sentence-transformers/all-MiniLM-L6-v2"
      ],
      "metadata": {
        "execution": {
          "iopub.status.busy": "2023-04-19T05:18:33.037534Z",
          "iopub.execute_input": "2023-04-19T05:18:33.038673Z",
          "iopub.status.idle": "2023-04-19T05:18:33.045040Z",
          "shell.execute_reply.started": "2023-04-19T05:18:33.038615Z",
          "shell.execute_reply": "2023-04-19T05:18:33.043977Z"
        },
        "trusted": true,
        "id": "OTYGZLxs-chg"
      },
      "execution_count": null,
      "outputs": []
    },
    {
      "cell_type": "code",
      "source": [
        "# can kill old ngrok + generate and try again\n",
        "do_kill = False\n",
        "if do_kill:\n",
        "  !pkill -f generate --signal 9\n",
        "  !pkill -f frpc_linux_amd --signal 9\n",
        "  !pkill -f ngrok --signal 9"
      ],
      "metadata": {
        "id": "dxd6BkoP9sKh"
      },
      "execution_count": null,
      "outputs": []
    },
    {
      "cell_type": "code",
      "source": [],
      "metadata": {
        "id": "wsYrY5AiP94S"
      },
      "execution_count": null,
      "outputs": []
    }
  ]
}